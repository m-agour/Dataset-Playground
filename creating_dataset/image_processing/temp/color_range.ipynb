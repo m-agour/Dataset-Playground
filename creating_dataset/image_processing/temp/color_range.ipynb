{
 "cells": [
  {
   "cell_type": "code",
   "execution_count": 2,
   "id": "2927a4ba-d568-4536-a9e5-766b28ed130c",
   "metadata": {},
   "outputs": [],
   "source": [
    "from colorfilters import BGRFilter\n",
    "import cv2\n",
    "\n"
   ]
  },
  {
   "cell_type": "code",
   "execution_count": null,
   "id": "3f508ff5-8f4b-41d5-a42f-4617201f06ac",
   "metadata": {},
   "outputs": [
    {
     "name": "stdout",
     "output_type": "stream",
     "text": [
      "Press [q] or [esc] to close the window.\n"
     ]
    }
   ],
   "source": [
    "img = cv2.imread(\"0016519_0000000.jpg\")\n",
    "window = BGRFilter(cv2.resize(img, (700, 500)))\n",
    "window.show()\n"
   ]
  },
  {
   "cell_type": "code",
   "execution_count": null,
   "id": "9ee2c210-edb4-407c-9f87-cc8e8edc166e",
   "metadata": {},
   "outputs": [],
   "source": [
    "# (0, 58, 236) (20, 135, 255)\n",
    "\n",
    "# (236, 0, 0) (254, 189, 215)\n"
   ]
  },
  {
   "cell_type": "code",
   "execution_count": null,
   "id": "2b419760-4d58-49d4-9c8b-a89ad68f1396",
   "metadata": {
    "pycharm": {
     "is_executing": true
    }
   },
   "outputs": [
    {
     "name": "stdout",
     "output_type": "stream",
     "text": [
      "Press [q] or [esc] to close the window.\n"
     ]
    }
   ],
   "source": [
    "from colorfilters import BGRFilter, HSVFilter, HSVFilter, LabFilter\n",
    "import cv2\n",
    "\n",
    "\n",
    "img = cv2.imread(\"0016519_0000000.jpg\")\n",
    "img = cv2.imread('planimgs/download.jpg')\n",
    "\n",
    "# img = cv2.cvtColor(img, cv2.COLOR_BGR2LAB)\n",
    "\n",
    "# img = cv2.GaussianBlur(img, (7, 7), 0)\n",
    "# img = cv2.bilateralFilter(img, 10, 30, 30, None)\n",
    "# img = cv2.pyrMeanShiftFiltering(img, 30, 30)\n",
    "\n",
    "# img = cv2.pyrMeanShiftFiltering(img, 30, 30)\n",
    "\n",
    "window = BGRFilter(cv2.resize(img, (1000, 800)))\n",
    "window.show()"
   ]
  },
  {
   "cell_type": "code",
   "execution_count": null,
   "id": "f83b7a20-c3cf-46b7-a199-824c01f6f18d",
   "metadata": {},
   "outputs": [],
   "source": [
    "# pool\n",
    "\n",
    "\n",
    "\n"
   ]
  }
 ],
 "metadata": {
  "kernelspec": {
   "display_name": "Python 3",
   "language": "python",
   "name": "python3"
  },
  "language_info": {
   "codemirror_mode": {
    "name": "ipython",
    "version": 3
   },
   "file_extension": ".py",
   "mimetype": "text/x-python",
   "name": "python",
   "nbconvert_exporter": "python",
   "pygments_lexer": "ipython3",
   "version": "3.9.13"
  }
 },
 "nbformat": 4,
 "nbformat_minor": 5
}
